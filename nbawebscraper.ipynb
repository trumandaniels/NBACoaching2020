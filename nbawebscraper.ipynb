{
 "cells": [
  {
   "cell_type": "code",
   "execution_count": 1,
   "metadata": {},
   "outputs": [],
   "source": [
    "from selenium import webdriver\n",
    "import pandas as pd\n",
    "import numpy as np\n",
    "from time import sleep"
   ]
  },
  {
   "cell_type": "code",
   "execution_count": 2,
   "metadata": {},
   "outputs": [],
   "source": [
    "path_to_chromedriver = '/usr/bin/chromedriver' # Path to access a chrome driver\n",
    "browser = webdriver.Chrome(executable_path=path_to_chromedriver)\n",
    "browser.maximize_window()"
   ]
  },
  {
   "cell_type": "code",
   "execution_count": 3,
   "metadata": {},
   "outputs": [],
   "source": [
    "#url = 'https://stats.nba.com/teams'\n",
    "#url = \"https://stats.nba.com/teams/shooting/?Season=2019-20&SeasonType=Regular%20Season&DistanceRange=By%20Zone&PerMode=Totals\"\n",
    "#url = \"https://stats.nba.com/teams/opponent-shooting/?Season=2019-20&SeasonType=Regular%20Season&DistanceRange=By%20Zone&PerMode=Totals\"\n",
    "#url = \"https://stats.nba.com/teams/opponent-shots-closest-defender/?Season=2019-20&SeasonType=Regular%20Season&PerMode=Totals\"\n",
    "#url = \"https://stats.nba.com/teams/opponent-shots-closest-defender/?Season=2019-20&SeasonType=Regular%20Season&PerMode=Totals&CloseDefDistRange=2-4%20Feet%20-%20Tight\"\n",
    "#url = \"https://stats.nba.com/teams/opponent-shots-closest-defender/?Season=2019-20&SeasonType=Regular%20Season&PerMode=Totals&CloseDefDistRange=4-6%20Feet%20-%20Open\"\n",
    "#url = \"https://stats.nba.com/teams/opponent-shots-closest-defender/?Season=2019-20&SeasonType=Regular%20Season&PerMode=Totals&CloseDefDistRange=6%2B%20Feet%20-%20Wide%20Open\"\n",
    "#url = \"https://stats.nba.com/teams/opponent-shots-shotclock/?Season=2019-20&SeasonType=Regular%20Season&PerMode=Totals\"\n",
    "#url = \"https://stats.nba.com/teams/opponent-shots-shotclock/?Season=2019-20&SeasonType=Regular%20Season&PerMode=Totals&ShotClockRange=18-15%20Early\"\n",
    "#url = \"https://stats.nba.com/teams/opponent-shots-shotclock/?Season=2019-20&SeasonType=Regular%20Season&PerMode=Totals&ShotClockRange=15-7%20Average\"\n",
    "#url = \"https://stats.nba.com/teams/opponent-shots-shotclock/?Season=2019-20&SeasonType=Regular%20Season&PerMode=Totals&ShotClockRange=7-4%20Late\"\n",
    "#url = \"https://stats.nba.com/teams/opponent-shots-shotclock/?Season=2019-20&SeasonType=Regular%20Season&PerMode=Totals&ShotClockRange=4-0%20Very%20Late\"\n",
    "#url =  \"https://stats.nba.com/teams/catch-shoot/?Season=2019-20&SeasonType=Regular%20Season&PerMode=Totals\"\n",
    "#url = \"https://stats.nba.com/teams/opponent-shots-general/?Season=2019-20&SeasonType=Regular%20Season&GeneralRange=Catch%20and%20Shoot&PerMode=Totals\"\n",
    "#url = \"https://stats.nba.com/teams/opponent-shots-general/?Season=2019-20&SeasonType=Regular%20Season&GeneralRange=Pullups&PerMode=Totals\"\n",
    "#url = \"https://stats.nba.com/teams/shots-general/?Season=2019-20&SeasonType=Regular%20Season&GeneralRange=Catch%20and%20Shoot&PerMode=Totals\"\n",
    "#url = \"https://stats.nba.com/teams/shots-general/?Season=2019-20&SeasonType=Regular%20Season&GeneralRange=Pullups&PerMode=Totals\"\n",
    "#url = \"https://stats.nba.com/teams/shooting/?Season=2019-20&SeasonType=Regular%20Season&PerMode=Totals&DistanceRange=By%20Zone\"\n",
    "#url = \"https://stats.nba.com/teams/shots-shotclock/?Season=2019-20&SeasonType=Regular%20Season&PerMode=Totals\"\n",
    "#url = \"https://stats.nba.com/teams/shots-shotclock/?Season=2019-20&SeasonType=Regular%20Season&PerMode=Totals&ShotClockRange=22-18%20Very%20Early\"\n",
    "#url = \"https://stats.nba.com/teams/shots-shotclock/?Season=2019-20&SeasonType=Regular%20Season&PerMode=Totals&ShotClockRange=18-15%20Early\"\n",
    "#url = \"https://stats.nba.com/teams/shots-shotclock/?Season=2019-20&SeasonType=Regular%20Season&PerMode=Totals&ShotClockRange=15-7%20Average\"\n",
    "#url = \"https://stats.nba.com/teams/shots-shotclock/?Season=2019-20&SeasonType=Regular%20Season&PerMode=Totals&ShotClockRange=7-4%20Late\"\n",
    "#url = \"https://stats.nba.com/teams/shots-shotclock/?Season=2019-20&SeasonType=Regular%20Season&PerMode=Totals&ShotClockRange=4-0%20Very%20Late\"\n",
    "#url = \"https://stats.nba.com/teams/shots-closest-defender/?Season=2019-20&SeasonType=Regular%20Season&PerMode=Totals\"\n",
    "#url = \"https://stats.nba.com/teams/shots-closest-defender/?Season=2019-20&SeasonType=Regular%20Season&PerMode=Totals&CloseDefDistRange=2-4%20Feet%20-%20Tight\"\n",
    "#url =  \"https://stats.nba.com/teams/shots-closest-defender/?Season=2019-20&SeasonType=Regular%20Season&PerMode=Totals&CloseDefDistRange=4-6%20Feet%20-%20Open\"\n",
    "url = \"https://stats.nba.com/teams/shots-closest-defender/?Season=2019-20&SeasonType=Regular%20Season&PerMode=Totals&CloseDefDistRange=6%2B%20Feet%20-%20Wide%20Open\"\n",
    "\n",
    "browser.get(url)"
   ]
  },
  {
   "cell_type": "code",
   "execution_count": 4,
   "metadata": {},
   "outputs": [],
   "source": [
    "browser.maximize_window()"
   ]
  },
  {
   "cell_type": "code",
   "execution_count": 5,
   "metadata": {},
   "outputs": [],
   "source": [
    "while True:\n",
    "    try:\n",
    "        table = browser.find_element_by_class_name('nba-stat-table__overflow')\n",
    "        sleep(1)\n",
    "            \n",
    "    except:\n",
    "        pass\n",
    "    else:\n",
    "        break\n",
    "\n",
    "#table = browser.find_element_by_xpath('/html/body/main/div[2]/div/div[2]/div/div/nba-stat-table/div[2]/div[1]')\n",
    "\n",
    "\n",
    "table_html = table.get_attribute('innerHTML')\n",
    "df = pd.read_html(table_html, header=1)\n",
    "def_wide = df[0]\n",
    "def_wide.to_csv('distwideopen-19-20.csv')"
   ]
  },
  {
   "cell_type": "code",
   "execution_count": 6,
   "metadata": {},
   "outputs": [
    {
     "data": {
      "text/plain": [
       "[                      Team  GP   G   Freq  FGM   FGA   FG%  eFG% 2FG Freq  \\\n",
       " 0          Milwaukee Bucks  64  64  26.8%  628  1560  40.3  56.3     3.3%   \n",
       " 1             Phoenix Suns  64  64  26.4%  630  1475  42.7  57.7     5.4%   \n",
       " 2         Dallas Mavericks  65  65  24.7%  603  1442  41.8  58.9     3.1%   \n",
       " 3            Chicago Bulls  65  65  24.7%  575  1414  40.7  56.5     3.6%   \n",
       " 4            Atlanta Hawks  67  67  23.4%  568  1412  40.2  56.1     3.3%   \n",
       " 5          Houston Rockets  64  64  24.0%  562  1390  40.4  57.3     2.4%   \n",
       " 6          Toronto Raptors  63  63  24.8%  607  1380  44.0  61.7     3.7%   \n",
       " 7           Indiana Pacers  65  65  24.0%  569  1373  41.4  54.7     6.8%   \n",
       " 8       Los Angeles Lakers  63  63  24.4%  579  1355  42.7  57.8     5.2%   \n",
       " 9   Minnesota Timberwolves  64  64  23.1%  545  1352  40.3  56.6     2.7%   \n",
       " 10        Sacramento Kings  63  63  24.3%  564  1340  42.1  57.3     4.8%   \n",
       " 11      Philadelphia 76ers  65  65  23.2%  554  1320  42.0  57.4     4.5%   \n",
       " 12       Memphis Grizzlies  65  65  22.2%  565  1309  43.2  59.6     3.8%   \n",
       " 13           Orlando Magic  65  65  22.3%  506  1283  39.4  53.5     5.0%   \n",
       " 14          Denver Nuggets  65  65  22.2%  563  1282  43.9  59.4     5.1%   \n",
       " 15               Utah Jazz  64  64  23.3%  565  1261  44.8  63.2     3.1%   \n",
       " 16    New Orleans Pelicans  63  63  21.2%  537  1221  44.0  61.3     3.4%   \n",
       " 17     Cleveland Cavaliers  65  65  21.4%  498  1221  40.8  56.6     3.4%   \n",
       " 18   Golden State Warriors  65  65  20.4%  456  1158  39.4  53.0     4.4%   \n",
       " 19   Oklahoma City Thunder  64  64  21.3%  487  1157  42.1  57.1     4.2%   \n",
       " 20          Boston Celtics  64  64  20.0%  514  1146  44.9  60.7     4.0%   \n",
       " 21              Miami Heat  64  64  21.1%  501  1131  44.3  60.8     4.1%   \n",
       " 22       San Antonio Spurs  62  62  20.1%  478  1109  43.1  56.9     5.6%   \n",
       " 23      Washington Wizards  64  64  19.0%  489  1099  44.5  59.9     4.6%   \n",
       " 24           Brooklyn Nets  64  64  18.8%  427  1081  39.5  55.6     2.3%   \n",
       " 25             LA Clippers  64  64  18.7%  458  1069  42.8  58.8     3.4%   \n",
       " 26       Charlotte Hornets  64  64  19.4%  432  1061  40.7  57.5     2.5%   \n",
       " 27         New York Knicks  66  66  17.7%  409  1039  39.4  52.6     4.1%   \n",
       " 28  Portland Trail Blazers  65  65  17.6%  440  1037  42.4  58.3     3.6%   \n",
       " 29         Detroit Pistons  65  65  18.5%  436  1027  42.5  59.2     2.6%   \n",
       " \n",
       "     2FGM  2FGA  2FG% 3FG Freq  3PM   3PA   3P%  \n",
       " 0    129   194  66.5    23.5%  499  1366  36.5  \n",
       " 1    187   302  61.9    21.0%  443  1173  37.8  \n",
       " 2    110   178  61.8    21.7%  493  1264  39.0  \n",
       " 3    127   203  62.6    21.2%  448  1211  37.0  \n",
       " 4    120   201  59.7    20.0%  448  1211  37.0  \n",
       " 5     94   139  67.6    21.6%  468  1251  37.4  \n",
       " 6    119   203  58.6    21.2%  488  1177  41.5  \n",
       " 7    205   388  52.8    17.2%  364   985  37.0  \n",
       " 8    170   287  59.2    19.2%  409  1068  38.3  \n",
       " 9    105   156  67.3    20.4%  440  1196  36.8  \n",
       " 10   157   266  59.0    19.5%  407  1074  37.9  \n",
       " 11   147   253  58.1    18.8%  407  1067  38.1  \n",
       " 12   135   221  61.1    18.5%  430  1088  39.5  \n",
       " 13   145   286  50.7    17.3%  361   997  36.2  \n",
       " 14   165   292  56.5    17.2%  398   990  40.2  \n",
       " 15   100   170  58.8    20.2%  465  1091  42.6  \n",
       " 16   114   194  58.8    17.9%  423  1027  41.2  \n",
       " 17   111   194  57.2    18.0%  387  1027  37.7  \n",
       " 18   141   249  56.6    16.0%  315   909  34.7  \n",
       " 19   140   231  60.6    17.0%  347   926  37.5  \n",
       " 20   150   232  64.7    16.0%  364   914  39.8  \n",
       " 21   128   220  58.2    17.0%  373   911  40.9  \n",
       " 22   171   310  55.2    14.5%  307   799  38.4  \n",
       " 23   150   264  56.8    14.4%  339   835  40.6  \n",
       " 24    80   134  59.7    16.5%  347   947  36.6  \n",
       " 25   116   192  60.4    15.3%  342   877  39.0  \n",
       " 26    76   136  55.9    16.9%  356   925  38.5  \n",
       " 27   134   240  55.8    13.6%  275   799  34.4  \n",
       " 28   111   214  51.9    14.0%  329   823  40.0  \n",
       " 29    93   143  65.0    16.0%  343   884  38.8  ]"
      ]
     },
     "execution_count": 6,
     "metadata": {},
     "output_type": "execute_result"
    }
   ],
   "source": [
    "df"
   ]
  },
  {
   "cell_type": "markdown",
   "metadata": {},
   "source": [
    "https://stats.nba.com/teams/catch-shoot/\n",
    "https://stats.nba.com/teams/shooting/?Season=2019-20&SeasonType=Regular%20Season&DistanceRange=By%20Zone\n",
    "https://stats.nba.com/teams/opponent-shooting/\n",
    "https://stats.nba.com/teams/opponent-shots-closest-defender/\n",
    "https://stats.nba.com/teams/opponent-shots-shotclock/\n",
    "https://stats.nba.com/teams/opponent-shots-dribbles/ #off the dribble"
   ]
  }
 ],
 "metadata": {
  "kernelspec": {
   "display_name": "Python 3",
   "language": "python",
   "name": "python3"
  },
  "language_info": {
   "codemirror_mode": {
    "name": "ipython",
    "version": 3
   },
   "file_extension": ".py",
   "mimetype": "text/x-python",
   "name": "python",
   "nbconvert_exporter": "python",
   "pygments_lexer": "ipython3",
   "version": "3.7.7"
  }
 },
 "nbformat": 4,
 "nbformat_minor": 4
}
